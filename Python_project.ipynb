{
 "cells": [
  {
   "cell_type": "code",
   "execution_count": 2,
   "id": "584cecd2",
   "metadata": {},
   "outputs": [],
   "source": [
    "import numpy as np\n",
    "import pandas as pd\n",
    "import matplotlib.pyplot as plt"
   ]
  },
  {
   "cell_type": "code",
   "execution_count": 3,
   "id": "1864bcd5",
   "metadata": {},
   "outputs": [],
   "source": [
    "# Loading of dataset\n",
    "data_rice = pd.read_csv(r\"C:\\G_Python\\Python Lab\\Project\\rice.csv\")\n",
    "data_wheat = pd.read_csv(r\"C:\\G_Python\\Python Lab\\Project\\wheat.csv\")\n",
    "data_maize = pd.read_csv(\"C:\\G_Python\\Python Lab\\Project\\maize.csv\")"
   ]
  },
  {
   "cell_type": "code",
   "execution_count": 4,
   "id": "5269d513",
   "metadata": {},
   "outputs": [
    {
     "data": {
      "text/html": [
       "<div>\n",
       "<style scoped>\n",
       "    .dataframe tbody tr th:only-of-type {\n",
       "        vertical-align: middle;\n",
       "    }\n",
       "\n",
       "    .dataframe tbody tr th {\n",
       "        vertical-align: top;\n",
       "    }\n",
       "\n",
       "    .dataframe thead th {\n",
       "        text-align: right;\n",
       "    }\n",
       "</style>\n",
       "<table border=\"1\" class=\"dataframe\">\n",
       "  <thead>\n",
       "    <tr style=\"text-align: right;\">\n",
       "      <th></th>\n",
       "      <th>States</th>\n",
       "      <th>Min avg temp (deg Cel)</th>\n",
       "      <th>Max avg temp (deg Cel)</th>\n",
       "      <th>Avg rainfall (cm)</th>\n",
       "      <th>Elevation (m)</th>\n",
       "    </tr>\n",
       "  </thead>\n",
       "  <tbody>\n",
       "    <tr>\n",
       "      <th>0</th>\n",
       "      <td>Karnataka</td>\n",
       "      <td>20</td>\n",
       "      <td>32</td>\n",
       "      <td>125</td>\n",
       "      <td>460</td>\n",
       "    </tr>\n",
       "    <tr>\n",
       "      <th>1</th>\n",
       "      <td>Madhya Pradesh</td>\n",
       "      <td>15</td>\n",
       "      <td>40</td>\n",
       "      <td>116</td>\n",
       "      <td>400</td>\n",
       "    </tr>\n",
       "    <tr>\n",
       "      <th>2</th>\n",
       "      <td>Maharashtra</td>\n",
       "      <td>20</td>\n",
       "      <td>34</td>\n",
       "      <td>145</td>\n",
       "      <td>100</td>\n",
       "    </tr>\n",
       "    <tr>\n",
       "      <th>3</th>\n",
       "      <td>Rajasthan</td>\n",
       "      <td>19</td>\n",
       "      <td>32</td>\n",
       "      <td>49</td>\n",
       "      <td>225</td>\n",
       "    </tr>\n",
       "    <tr>\n",
       "      <th>4</th>\n",
       "      <td>Uttar Pradesh</td>\n",
       "      <td>19</td>\n",
       "      <td>32</td>\n",
       "      <td>134</td>\n",
       "      <td>300</td>\n",
       "    </tr>\n",
       "    <tr>\n",
       "      <th>5</th>\n",
       "      <td>Bihar</td>\n",
       "      <td>20</td>\n",
       "      <td>31</td>\n",
       "      <td>125</td>\n",
       "      <td>53</td>\n",
       "    </tr>\n",
       "    <tr>\n",
       "      <th>6</th>\n",
       "      <td>Andhra Pradesh</td>\n",
       "      <td>23</td>\n",
       "      <td>33</td>\n",
       "      <td>103</td>\n",
       "      <td>269</td>\n",
       "    </tr>\n",
       "    <tr>\n",
       "      <th>7</th>\n",
       "      <td>Gujarat</td>\n",
       "      <td>20</td>\n",
       "      <td>35</td>\n",
       "      <td>78</td>\n",
       "      <td>137</td>\n",
       "    </tr>\n",
       "  </tbody>\n",
       "</table>\n",
       "</div>"
      ],
      "text/plain": [
       "           States  Min avg temp (deg Cel)  Max avg temp (deg Cel)  \\\n",
       "0       Karnataka                      20                      32   \n",
       "1  Madhya Pradesh                      15                      40   \n",
       "2     Maharashtra                      20                      34   \n",
       "3       Rajasthan                      19                      32   \n",
       "4   Uttar Pradesh                      19                      32   \n",
       "5           Bihar                      20                      31   \n",
       "6  Andhra Pradesh                      23                      33   \n",
       "7         Gujarat                      20                      35   \n",
       "\n",
       "   Avg rainfall (cm)  Elevation (m)  \n",
       "0                125            460  \n",
       "1                116            400  \n",
       "2                145            100  \n",
       "3                 49            225  \n",
       "4                134            300  \n",
       "5                125             53  \n",
       "6                103            269  \n",
       "7                 78            137  "
      ]
     },
     "execution_count": 4,
     "metadata": {},
     "output_type": "execute_result"
    }
   ],
   "source": [
    "data_maize"
   ]
  },
  {
   "cell_type": "code",
   "execution_count": 5,
   "id": "5a277ee6",
   "metadata": {},
   "outputs": [],
   "source": [
    "#Class rice\n",
    "class class_rice:\n",
    "    def __init__(self):\n",
    "        pass\n",
    "\n",
    "    # Functions\n",
    "    def rice_temp(self):\n",
    "        print(f\"Rice requires temperature of {data_rice['Min avg temp (deg Cel)'].min()}-{data_rice['Max avg temp (deg Cel)'].max()} deg Cel\")\n",
    "        \n",
    "    def rice_rain(self):\n",
    "        print(f\"Rice requires rainfall of {data_rice['Avg rainfall (cm)'].min()}-{data_rice['Avg rainfall (cm)'].max()} cm\")    \n",
    "    \n",
    "    def rice_elev(self):\n",
    "        print(f\"Rice requires elevation of {data_rice['Elevation (m)'].min()}-{data_rice['Elevation (m)'].max()} cm\") \n",
    "    \n",
    "    def rice_states(self):\n",
    "        rice_sname = data_rice['States'].astype(str).tolist()\n",
    "        result1 = ', '.join(rice_sname)\n",
    "        print(f\"Major rice growing states in India are: {result1}\")\n",
    "         \n",
    "    "
   ]
  },
  {
   "cell_type": "code",
   "execution_count": 6,
   "id": "e5ec04e4",
   "metadata": {},
   "outputs": [],
   "source": [
    "#Class wheat\n",
    "class class_wheat:\n",
    "    def __init__(self):\n",
    "        pass\n",
    "\n",
    "    # Functions\n",
    "    def wheat_temp(self):\n",
    "        print(f\"Wheat requires temperature of {data_wheat['Min avg temp (deg Cel)'].min()}-{data_wheat['Max avg temp (deg Cel)'].max()} deg Cel\")\n",
    "        \n",
    "    def wheat_rain(self):\n",
    "        print(f\"Wheat requires rainfall of {data_wheat['Avg rainfall (cm)'].min()}-{data_wheat['Avg rainfall (cm)'].max()} cm\")    \n",
    "    \n",
    "    def wheat_elev(self):\n",
    "        print(f\"Wheat requires elevation of {data_wheat['Elevation (m)'].min()}-{data_wheat['Elevation (m)'].max()} cm\") \n",
    "    \n",
    "    def wheat_states(self):\n",
    "        wheat_sname = data_wheat['States'].astype(str).tolist()\n",
    "        result2 = ', '.join(wheat_sname)\n",
    "        print(f\"Major wheat growing states in India are: {result2}\")\n",
    "         "
   ]
  },
  {
   "cell_type": "code",
   "execution_count": 7,
   "id": "b4fce08a",
   "metadata": {},
   "outputs": [],
   "source": [
    "#Class maize\n",
    "class class_maize:\n",
    "    def __init__(self):\n",
    "        pass\n",
    "\n",
    "    # Functions\n",
    "    def maize_temp(self):\n",
    "        print(f\"Maize requires temperature of {data_maize['Min avg temp (deg Cel)'].min()}-{data_maize['Max avg temp (deg Cel)'].max()} deg Cel\")\n",
    "        \n",
    "    def maize_rain(self):\n",
    "        print(f\"Maize requires rainfall of {data_maize['Avg rainfall (cm)'].min()}-{data_maize['Avg rainfall (cm)'].max()} cm\")    \n",
    "    \n",
    "    def maize_elev(self):\n",
    "        print(f\"Maize requires elevation of {data_maize['Elevation (m)'].min()}-{data_maize['Elevation (m)'].max()} cm\") \n",
    "    \n",
    "    def maize_states(self):\n",
    "        maize_sname = data_maize['States'].astype(str).tolist()\n",
    "        result3 = ', '.join(maize_sname)\n",
    "        print(f\"Major maize growing states in India are: {result3}\")\n",
    "         \n",
    "    "
   ]
  },
  {
   "cell_type": "code",
   "execution_count": 8,
   "id": "670df7d3",
   "metadata": {},
   "outputs": [],
   "source": [
    "rice = class_rice()\n",
    "wheat = class_wheat()\n",
    "maize = class_maize()"
   ]
  },
  {
   "cell_type": "code",
   "execution_count": 9,
   "id": "03d2e9fb",
   "metadata": {},
   "outputs": [
    {
     "name": "stdout",
     "output_type": "stream",
     "text": [
      "Major rice growing states in India are: West Bengal, Uttar Pradesh, Andhra Pradesh, Punjab, Odisha, Chattisgarh, Tamil Nadu, Bihar, Assam, Haryana\n"
     ]
    }
   ],
   "source": [
    "rice.rice_states()"
   ]
  },
  {
   "cell_type": "code",
   "execution_count": 10,
   "id": "2db4b8f6",
   "metadata": {},
   "outputs": [
    {
     "name": "stderr",
     "output_type": "stream",
     "text": [
      "No artists with labels found to put in legend.  Note that artists whose label start with an underscore are ignored when legend() is called with no argument.\n"
     ]
    },
    {
     "data": {
      "image/png": "[encoded data removed]",
      "text/plain": [
       "<Figure size 640x480 with 1 Axes>"
      ]
     },
     "metadata": {},
     "output_type": "display_data"
    }
   ],
   "source": [
    "rice_avg_rain = data_rice['Avg rainfall (cm)'].mean()\n",
    "wheat_avg_rain = data_wheat['Avg rainfall (cm)'].mean()\n",
    "maize_avg_rain = data_maize['Avg rainfall (cm)'].mean()\n",
    "\n",
    "rain_dict = {'Rice': rice_avg_rain, 'Wheat': wheat_avg_rain, 'Maize': maize_avg_rain}\n",
    "\n",
    "# Create a histogram\n",
    "plt.bar(rain_dict.keys(), rain_dict.values(), color=['cyan', 'yellow', 'green'])\n",
    "plt.xlabel('Crops')\n",
    "plt.ylabel('Average Rainfall (in cm)')\n",
    "plt.title('Average Rainfall required for Rice, Wheat and Maize')\n",
    "plt.legend()\n",
    "plt.show()"
   ]
  },
  {
   "cell_type": "code",
   "execution_count": 11,
   "id": "fe26228e",
   "metadata": {},
   "outputs": [
    {
     "name": "stderr",
     "output_type": "stream",
     "text": [
      "No artists with labels found to put in legend.  Note that artists whose label start with an underscore are ignored when legend() is called with no argument.\n"
     ]
    },
    {
     "data": {
      "image/png": "[encoded data removed]",
      "text/plain": [
       "<Figure size 640x480 with 1 Axes>"
      ]
     },
     "metadata": {},
     "output_type": "display_data"
    }
   ],
   "source": [
    "rice_avg_elev = data_rice['Elevation (m)'].mean()\n",
    "wheat_avg_elev = data_wheat['Elevation (m)'].mean()\n",
    "maize_avg_elev = data_maize['Elevation (m)'].mean()\n",
    "\n",
    "elev_dict = {'Rice': rice_avg_elev, 'Wheat': wheat_avg_elev, 'Maize': maize_avg_elev}\n",
    "\n",
    "# Create a histogram\n",
    "plt.bar(elev_dict.keys(), elev_dict.values(), color=['cyan', 'yellow', 'green'])\n",
    "plt.xlabel('Crops')\n",
    "plt.ylabel('Average Elevation (in m)')\n",
    "plt.title('Average Elevation required for Rice, Wheat and Maize')\n",
    "plt.legend()\n",
    "plt.show()"
   ]
  },
  {
   "cell_type": "code",
   "execution_count": null,
   "id": "d5402d7d",
   "metadata": {},
   "outputs": [],
   "source": [
    "print(rice.rice_temp())\n",
    "print(rice.rice_rain())\n",
    "print(rice.rice_elev())\n",
    "print(rice.rice_states())"
   ]
  },
  {
   "cell_type": "code",
   "execution_count": null,
   "id": "ec6ef504",
   "metadata": {},
   "outputs": [],
   "source": []
  },
  {
   "cell_type": "code",
   "execution_count": 18,
   "id": "e8904a41",
   "metadata": {},
   "outputs": [
    {
     "name": "stdout",
     "output_type": "stream",
     "text": [
      "Rice requires temperature of 17-35 deg Cel\n",
      "None\n",
      "Rice requires rainfall of 62-281 cm\n",
      "None\n",
      "Rice requires elevation of 53-500 cm\n",
      "None\n",
      "Major rice growing states in India are: West Bengal, Uttar Pradesh, Andhra Pradesh, Punjab, Odisha, Chattisgarh, Tamil Nadu, Bihar, Assam, Haryana\n",
      "None\n"
     ]
    }
   ],
   "source": [
    "print(rice.rice_temp())\n",
    "print(rice.rice_rain())\n",
    "print(rice.rice_elev())\n",
    "print(rice.rice_states())"
   ]
  },
  {
   "cell_type": "code",
   "execution_count": null,
   "id": "0c16e61b",
   "metadata": {},
   "outputs": [],
   "source": []
  }
 ],
 "metadata": {
  "kernelspec": {
   "display_name": "Python 3 (ipykernel)",
   "language": "python",
   "name": "python3"
  },
  "language_info": {
   "codemirror_mode": {
    "name": "ipython",
    "version": 3
   },
   "file_extension": ".py",
   "mimetype": "text/x-python",
   "name": "python",
   "nbconvert_exporter": "python",
   "pygments_lexer": "ipython3",
   "version": "3.11.3"
  }
 },
 "nbformat": 4,
 "nbformat_minor": 5
}
